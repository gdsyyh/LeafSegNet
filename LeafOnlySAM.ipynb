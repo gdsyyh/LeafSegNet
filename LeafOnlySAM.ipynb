{
 "cells": [
  {
   "cell_type": "code",
   "execution_count": 1,
   "id": "34ac1696",
   "metadata": {
    "tags": []
   },
   "outputs": [],
   "source": [
    "import numpy as np\n",
    "import torch\n",
    "import matplotlib.pyplot as plt\n",
    "import cv2\n",
    "import os\n",
    "import pandas as pd"
   ]
  },
  {
   "cell_type": "code",
   "execution_count": 2,
   "id": "1d72c7a5",
   "metadata": {
    "tags": []
   },
   "outputs": [
    {
     "ename": "ModuleNotFoundError",
     "evalue": "No module named 'segment_anything'",
     "output_type": "error",
     "traceback": [
      "\u001b[1;31m---------------------------------------------------------------------------\u001b[0m",
      "\u001b[1;31mModuleNotFoundError\u001b[0m                       Traceback (most recent call last)",
      "Cell \u001b[1;32mIn[2], line 1\u001b[0m\n\u001b[1;32m----> 1\u001b[0m \u001b[38;5;28;01mfrom\u001b[39;00m \u001b[38;5;21;01msegment_anything\u001b[39;00m \u001b[38;5;28;01mimport\u001b[39;00m sam_model_registry, SamAutomaticMaskGenerator, SamPredictor\n\u001b[0;32m      3\u001b[0m sam_checkpoint \u001b[38;5;241m=\u001b[39m \u001b[38;5;124m\"\u001b[39m\u001b[38;5;124msam_vit_h_4b8939.pth\u001b[39m\u001b[38;5;124m\"\u001b[39m\n\u001b[0;32m      4\u001b[0m model_type \u001b[38;5;241m=\u001b[39m \u001b[38;5;124m\"\u001b[39m\u001b[38;5;124mvit_h\u001b[39m\u001b[38;5;124m\"\u001b[39m\n",
      "\u001b[1;31mModuleNotFoundError\u001b[0m: No module named 'segment_anything'"
     ]
    }
   ],
   "source": [
    "from segment_anything import sam_model_registry, SamAutomaticMaskGenerator, SamPredictor\n",
    "\n",
    "sam_checkpoint = \"sam_vit_h_4b8939.pth\"\n",
    "model_type = \"vit_h\"\n",
    "\n",
    "device = \"cuda\"\n",
    "\n",
    "sam = sam_model_registry[model_type](checkpoint=sam_checkpoint)\n",
    "sam.to(device=device);\n"
   ]
  },
  {
   "cell_type": "code",
   "execution_count": null,
   "id": "f51a1dce",
   "metadata": {
    "tags": []
   },
   "outputs": [],
   "source": [
    "def checkcolour(masks, hsv):\n",
    "    colours = np.zeros((0,3))\n",
    "\n",
    "    for i in range(len(masks)):\n",
    "        color = hsv[masks[i]['segmentation']].mean(axis=(0))\n",
    "        colours = np.append(colours,color[None,:], axis=0)\n",
    "        \n",
    "    idx_green = (colours[:,0]<75) & (colours[:,0]>35) & (colours[:,1]>35)\n",
    "    if idx_green.sum()==0:\n",
    "        # grow lights on adjust\n",
    "        idx_green = (colours[:,0]<100) & (colours[:,0]>35) & (colours[:,1]>35)\n",
    "    \n",
    "    return(idx_green)"
   ]
  },
  {
   "cell_type": "code",
   "execution_count": null,
   "id": "fee6dcbe",
   "metadata": {
    "tags": []
   },
   "outputs": [],
   "source": [
    "def checkfullplant(masks):\n",
    "    mask_all = np.zeros(masks[0]['segmentation'].shape[:2])\n",
    "\n",
    "    for mask in masks:\n",
    "        mask_all +=mask['segmentation']*1\n",
    "        \n",
    "    iou_withall = []\n",
    "    for mask in masks:\n",
    "        iou_withall.append(iou(mask['segmentation'], mask_all>0))\n",
    "        \n",
    "    idx_notall = np.array(iou_withall)<0.9\n",
    "    return idx_notall"
   ]
  },
  {
   "cell_type": "code",
   "execution_count": null,
   "id": "9e2ffe57",
   "metadata": {
    "tags": []
   },
   "outputs": [],
   "source": [
    "def getbiggestcontour(contours):\n",
    "    nopoints = [len(cnt) for cnt in contours]\n",
    "    return(np.argmax(nopoints))\n",
    "\n",
    "def checkshape(masks):\n",
    "    cratio = []\n",
    "\n",
    "    for i in range(len(masks)):\n",
    "        test_mask = masks[i]['segmentation']\n",
    "        \n",
    "        if not test_mask.max():\n",
    "            cratio.append(0)\n",
    "        else:\n",
    "\n",
    "            contours,hierarchy = cv2.findContours((test_mask*255).astype('uint8'), 1, 2)\n",
    "\n",
    "            # multiple objects possibly detected. Find contour with most points on it and just use that as object\n",
    "            cnt = contours[getbiggestcontour(contours)]\n",
    "            M = cv2.moments(cnt)\n",
    "\n",
    "            area = cv2.contourArea(cnt)\n",
    "            perimeter = cv2.arcLength(cnt,True)\n",
    "\n",
    "            (x,y),radius = cv2.minEnclosingCircle(cnt)\n",
    "\n",
    "            carea = np.pi*radius**2\n",
    "\n",
    "            cratio.append(area/carea)\n",
    "    idx_shape = np.array(cratio)>0.1\n",
    "    return(idx_shape)"
   ]
  },
  {
   "cell_type": "code",
   "execution_count": null,
   "id": "3deec42d",
   "metadata": {
    "tags": []
   },
   "outputs": [],
   "source": [
    "def iou(gtmask, test_mask):\n",
    "    intersection = np.logical_and(gtmask, test_mask)\n",
    "    union = np.logical_or(gtmask, test_mask)\n",
    "    iou_score = np.sum(intersection) / np.sum(union)\n",
    "    return (iou_score)"
   ]
  },
  {
   "cell_type": "code",
   "execution_count": null,
   "id": "8749bafb",
   "metadata": {
    "tags": []
   },
   "outputs": [],
   "source": [
    "def issubset(mask1, mask2):\n",
    "    # is mask2 subpart of mask1\n",
    "    intersection = np.logical_and(mask1, mask2)\n",
    "    return(np.sum(intersection)/mask2.sum()>0.9)\n",
    "\n",
    "def istoobig(masks):\n",
    "    idx_toobig = []\n",
    "    \n",
    "    mask_all = np.zeros(masks[0]['segmentation'].shape[:2])\n",
    "\n",
    "    for mask in masks:\n",
    "        mask_all +=mask['segmentation']*1 \n",
    "\n",
    "    for idx in range(len(masks)):\n",
    "        if idx in idx_toobig:\n",
    "            continue\n",
    "        for idx2 in range(len(masks)):\n",
    "            if idx==idx2:\n",
    "                continue\n",
    "            if idx2 in idx_toobig:\n",
    "                continue\n",
    "            if issubset(masks[idx2]['segmentation'], masks[idx]['segmentation']):\n",
    "                # check if actually got both big and small copy delete if do\n",
    "                if mask_all[masks[idx2]['segmentation']].mean() > 1.5:\n",
    "                \n",
    "                    idx_toobig.append(idx2)\n",
    "    \n",
    "    idx_toobig.sort(reverse=True)        \n",
    "    return(idx_toobig)\n",
    "\n",
    "def remove_toobig(masks, idx_toobig):\n",
    "    masks_ntb = masks.copy()\n",
    "\n",
    "    idx_del = []\n",
    "    for idxbig in idx_toobig[1:]:\n",
    "        maskbig = masks_ntb[idxbig]['segmentation'].copy()\n",
    "        submasks = np.zeros(maskbig.shape)\n",
    "\n",
    "        for idx in range(len(masks_ntb)):\n",
    "            if idx==idxbig:\n",
    "                continue\n",
    "            if issubset(masks_ntb[idxbig]['segmentation'], masks_ntb[idx]['segmentation']):\n",
    "                submasks +=masks_ntb[idx]['segmentation']\n",
    "\n",
    "        if np.logical_and(maskbig, submasks>0).sum()/maskbig.sum()>0.9:\n",
    "            # can safely remove maskbig\n",
    "            idx_del.append(idxbig)\n",
    "            del(masks_ntb[idxbig])\n",
    "            \n",
    "    return(masks_ntb)"
   ]
  },
  {
   "cell_type": "code",
   "execution_count": null,
   "id": "f8eae021-b883-45e5-930c-8d9e63412b9e",
   "metadata": {
    "tags": []
   },
   "outputs": [],
   "source": [
    "def render_mask(masks):\n",
    "    if len(masks) == 0:\n",
    "        return None\n",
    "    res = np.zeros([masks[0][\"segmentation\"].shape[0], masks[0][\"segmentation\"].shape[1], 3])\n",
    "    sorted_masks = sorted(masks, key=(lambda x: x[\"area\"]), reverse=True)\n",
    "    for mask in sorted_masks:\n",
    "        m = mask[\"segmentation\"]\n",
    "        res[:, :, 0][m] = np.random.randint(0, 255)\n",
    "        res[:, :, 1][m] = np.random.randint(0, 255)\n",
    "        res[:, :, 2][m] = np.random.randint(0, 255)\n",
    "    res = res.astype(np.uint8)\n",
    "    return res"
   ]
  },
  {
   "cell_type": "code",
   "execution_count": null,
   "id": "b6d820e6-42da-4eaa-9209-c88c4966cfa1",
   "metadata": {
    "tags": []
   },
   "outputs": [],
   "source": [
    "def render_mask_black(masks):\n",
    "    if len(masks) == 0:\n",
    "        return None\n",
    "    res = np.zeros([masks[0][\"segmentation\"].shape[0], masks[0][\"segmentation\"].shape[1], 3])\n",
    "    sorted_masks = sorted(masks, key=(lambda x: x[\"area\"]), reverse=True)\n",
    "    for mask in sorted_masks:\n",
    "        m = mask[\"segmentation\"]\n",
    "        res[:, :, 0][m] = 255\n",
    "        res[:, :, 1][m] = 255\n",
    "        res[:, :, 2][m] = 255\n",
    "    res = res.astype(np.uint8)\n",
    "    return res"
   ]
  },
  {
   "cell_type": "code",
   "execution_count": 5,
   "id": "af3de953-e6dc-4bca-9ba9-c12be00daa71",
   "metadata": {
    "tags": []
   },
   "outputs": [],
   "source": [
    "current_folder = '03202310/3/'\n",
    "orgin_folder = 'autodl-tmp/所有图像/' + current_folder\n",
    "image_folder = 'download_image/' + current_folder\n",
    "mask_folder = 'download_mask/' + current_folder"
   ]
  },
  {
   "cell_type": "code",
   "execution_count": 6,
   "id": "7df4a6a6-e5fd-4aed-8672-2fd788461eb0",
   "metadata": {
    "tags": []
   },
   "outputs": [],
   "source": [
    "def get_output_mask(mask, filename):\n",
    "    color_mask = render_mask_black(mask).astype(np.uint8)\n",
    "    DEST_image = mask_folder + \"complete/\" + filename + \".png\" \n",
    "    if color_mask is not None:\n",
    "        print(DEST_image)\n",
    "        cv2.imwrite(DEST_image, color_mask)"
   ]
  },
  {
   "cell_type": "code",
   "execution_count": 7,
   "id": "6a2ac49d",
   "metadata": {
    "tags": []
   },
   "outputs": [],
   "source": [
    "# imnames = [x for x in os.listdir(folder) if '.jpg' in x]  # get list of image files change .JPG is using files of different type\n",
    "# print(imnames)"
   ]
  },
  {
   "cell_type": "code",
   "execution_count": 8,
   "id": "3b6d441f-934a-47f6-a3f9-7a85e77cd8f2",
   "metadata": {
    "tags": []
   },
   "outputs": [
    {
     "ename": "ModuleNotFoundError",
     "evalue": "No module named 'GPUtil'",
     "output_type": "error",
     "traceback": [
      "\u001b[1;31m---------------------------------------------------------------------------\u001b[0m",
      "\u001b[1;31mModuleNotFoundError\u001b[0m                       Traceback (most recent call last)",
      "Cell \u001b[1;32mIn[8], line 1\u001b[0m\n\u001b[1;32m----> 1\u001b[0m \u001b[38;5;28;01mimport\u001b[39;00m \u001b[38;5;21;01mGPUtil\u001b[39;00m\n\u001b[0;32m      3\u001b[0m \u001b[38;5;66;03m# 获取所有可用GPU的信息\u001b[39;00m\n\u001b[0;32m      4\u001b[0m gpus \u001b[38;5;241m=\u001b[39m GPUtil\u001b[38;5;241m.\u001b[39mgetGPUs()\n",
      "\u001b[1;31mModuleNotFoundError\u001b[0m: No module named 'GPUtil'"
     ]
    }
   ],
   "source": [
    "import GPUtil\n",
    "\n",
    "# 获取所有可用GPU的信息\n",
    "gpus = GPUtil.getGPUs()\n",
    "\n",
    "for gpu in gpus:\n",
    "    print(f\"GPU: {gpu.name}\")\n",
    "    print(f\"GPU占用率: {gpu.load * 100}%\")\n",
    "    print(f\"显存使用率: {gpu.memoryUtil * 100}%\")\n",
    "    print(f\"显存总量: {gpu.memoryTotal} MB\")\n",
    "    print(f\"显存已用: {gpu.memoryUsed} MB\")\n",
    "    print(f\"显存空闲: {gpu.memoryFree} MB\")\n",
    "    print(f\"温度: {gpu.temperature} °C\")\n",
    "    print(\"-\" * 40)\n"
   ]
  },
  {
   "cell_type": "code",
   "execution_count": 13,
   "id": "5fd4c203",
   "metadata": {
    "tags": []
   },
   "outputs": [
    {
     "name": "stdout",
     "output_type": "stream",
     "text": [
      "['1697077006_1697076663_4.jpg', '1697501766_1697501463_4.jpg', '1698624992_1698624664_4.jpg', '1698365782_1698365463_4.jpg', '1698538578_1698538263_4.jpg', '1696493792_1696493464_4.jpg', '1698711376_1698711063_4.jpg', '1696745832_1696745463_4.jpg', '1698452181_1698451863_4.jpg', '1698135364_1698135063_4.jpg', '1696580207_1696579863_4.jpg', '1697962544_1697962263_4.jpg', '1697005024_1697004663_4.jpg', '1697328989_1697328663_4.jpg', '1697249791_1697249463_4.jpg', '1696832217_1696831863_4.jpg', '1696378598_1696378263_4.jpg', '1697616939_1697616663_4.jpg', '1696119415_1696119064_4.jpg']\n",
      "1697077006_1697076663_4.jpg\n",
      "download_mask/03202310/3/complete/1697077006_1697076663_4.png\n",
      "程序运行时间: 67.00577163696289 秒\n"
     ]
    }
   ],
   "source": [
    "import time\n",
    "start_time = time.time()\n",
    "imnames = [x for x in os.listdir(orgin_folder) if '.jpg' in x]  # get list of image files change .JPG is using files of different type\n",
    "print(imnames)\n",
    "\n",
    "for imname in imnames:\n",
    "    print(imname)\n",
    "    image = cv2.imread(orgin_folder + imname)\n",
    "    image = cv2.cvtColor(image, cv2.COLOR_BGR2RGB)\n",
    "    image = cv2.resize(image,None,fx=0.5,fy=0.5)   # downsize image to fit on gpu easier may not be needed\n",
    "    hsv = cv2.cvtColor(image, cv2.COLOR_BGR2HSV)\n",
    "           \n",
    "    # use crop_n_layer=1 to improve results on smallest leaves \n",
    "    mask_generator = SamAutomaticMaskGenerator(\n",
    "        model=sam,\n",
    "        points_per_side=32,\n",
    "        pred_iou_thresh=0.88,\n",
    "        stability_score_thresh=0.95,\n",
    "        crop_n_layers=1,\n",
    "        crop_n_points_downscale_factor=2,\n",
    "        min_mask_region_area=200,  \n",
    "    )\n",
    "\n",
    "    # get masks\n",
    "    masks = mask_generator.generate(image)\n",
    "    \n",
    "    # remove things that aren't green enough to be leaves\n",
    "    idx_green = checkcolour(masks,hsv)\n",
    "\n",
    "    masks_g = []\n",
    "    for idx, use in enumerate(idx_green):\n",
    "        if use:\n",
    "            masks_g.append(masks[idx])\n",
    "\n",
    "    if len(masks_g) > 2:\n",
    "\n",
    "        # check to see if full plant detected and remove\n",
    "        idx_notall = checkfullplant(masks_g)\n",
    "\n",
    "        masks_na = []\n",
    "\n",
    "        for idx, use in enumerate(idx_notall):\n",
    "            if use:\n",
    "                masks_na.append(masks_g[idx])\n",
    "\n",
    "    else:\n",
    "        masks_na = masks_g\n",
    "\n",
    "    idx_shape = checkshape(masks_na)\n",
    "\n",
    "    masks_s = []\n",
    "    for idx, use in enumerate(idx_shape):\n",
    "        if use:\n",
    "            masks_s.append(masks_na[idx])\n",
    "\n",
    "    idx_toobig = istoobig(masks_s)\n",
    "    masks_ntb = remove_toobig(masks_s, idx_toobig)\n",
    "    \n",
    "    # save results at each step as npz file \n",
    "    np.savez(mask_folder + imname.replace('.jpg','leafonly_allmasks.npz'),\n",
    "              masks, masks_g, masks_na, masks_s, masks_ntb)\n",
    "\n",
    "    # outputs = [x for x in os.listdir(folder_out) if '.npz' in x]\n",
    "    # print(outputs)\n",
    "    # output_image = np.load(folder_out + outputs[0], allow_pickle=True)\n",
    "    get_output_mask(masks_ntb, imname[:-4])\n",
    "    break\n",
    "end_time = time.time()\n",
    "elapsed_time = end_time - start_time\n",
    "print(f\"程序运行时间: {elapsed_time} 秒\")"
   ]
  },
  {
   "cell_type": "code",
   "execution_count": 40,
   "id": "02059663-b62c-41e6-b693-79e7fa7c90b3",
   "metadata": {
    "tags": []
   },
   "outputs": [
    {
     "name": "stdout",
     "output_type": "stream",
     "text": [
      "['1697609760_1697609464_4.jpg', '1696119374_1696119064_4.jpg', '1696551386_1696551064_4.jpg', '1698372993_1698372664_4.jpg', '1698711377_1698711064_4.jpg', '1696745769_1696745464_4.jpg', '1696407370_1696407064_4.jpg', '1697076959_1697076664_4.jpg', '1698041772_1698041464_4.jpg', '1697415364_1697415064_4.jpg']\n",
      "1697609760_1697609464_4.jpg\n",
      "1696119374_1696119064_4.jpg\n",
      "1696551386_1696551064_4.jpg\n",
      "1698372993_1698372664_4.jpg\n",
      "1698711377_1698711064_4.jpg\n",
      "1696745769_1696745464_4.jpg\n",
      "1696407370_1696407064_4.jpg\n",
      "1697076959_1697076664_4.jpg\n",
      "1698041772_1698041464_4.jpg\n",
      "1697415364_1697415064_4.jpg\n"
     ]
    }
   ],
   "source": [
    "import cv2\n",
    "import os\n",
    "\n",
    "imnames = [x for x in os.listdir(orgin_folder) if '.jpg' in x]  # get list of image files change .JPG is using files of different type\n",
    "print(imnames)\n",
    "image_count = 0\n",
    "for imname in imnames:\n",
    "    # 加载原图像和mask\n",
    "    print(imname)\n",
    "    image = cv2.imread(orgin_folder + imname)\n",
    "    image = cv2.resize(image,None,fx=0.5,fy=0.5)\n",
    "    mask = cv2.imread(mask_folder + \"complete/\" + imname[:-4] + \".png\")\n",
    "    \n",
    "    if mask is None :\n",
    "        print(\"dont have mask\")\n",
    "        continue\n",
    "\n",
    "    # 确保image和mask的大小相同\n",
    "    assert image.shape == mask.shape, \"Image and mask should have the same dimensions.\"\n",
    "\n",
    "    # 定义截取小图片的大小\n",
    "    crop_size = 256\n",
    "\n",
    "    imagetime = \"02202310_7_\"\n",
    "    filename = \"image_\" + imagetime + str(image_count)\n",
    "    cv2.imwrite(os.path.join(image_folder + \"complete/\",  filename + \".png\"), image)\n",
    "    image_count = image_count + 1\n",
    "    # 遍历原图像和mask，截取小图片\n",
    "    count = 0\n",
    "    for y in range(0, image.shape[0], crop_size):\n",
    "        for x in range(0, image.shape[1], crop_size):\n",
    "            # 获取截取区域的坐标\n",
    "            x_end = min(x + crop_size, image.shape[1])\n",
    "            y_end = min(y + crop_size, image.shape[0])\n",
    "\n",
    "            # 截取原图像和mask中对应位置的区域\n",
    "            cropped_image = image[y:y_end, x:x_end]\n",
    "            cropped_mask = mask[y:y_end, x:x_end]\n",
    "\n",
    "            # 保存截取的小图片\n",
    "            output_folder = \"cropped_images/image_\" + str(y) + \"_\" + str(x) + \"/\";\n",
    "            os.makedirs(output_folder, exist_ok=True)\n",
    "            cv2.imwrite(os.path.join(image_folder, filename + \"_\" + str(count) + \".png\"), cropped_image)\n",
    "            cv2.imwrite(os.path.join(mask_folder, filename + \"_\" + str(count) + \".png\"), cropped_mask)\n",
    "            count = count + 1"
   ]
  },
  {
   "cell_type": "code",
   "execution_count": 14,
   "id": "c0447b00",
   "metadata": {
    "tags": []
   },
   "outputs": [
    {
     "name": "stdout",
     "output_type": "stream",
     "text": [
      "['1697077006_1697076663_4leafonly_allmasks.npz']\n"
     ]
    }
   ],
   "source": [
    "outputs = [x for x in os.listdir(mask_folder) if '.npz' in x]\n",
    "print(outputs)"
   ]
  },
  {
   "cell_type": "code",
   "execution_count": 45,
   "id": "d955f130-cd8d-478c-9ece-49b54b74de4f",
   "metadata": {
    "tags": []
   },
   "outputs": [
    {
     "name": "stdout",
     "output_type": "stream",
     "text": [
      "1\n"
     ]
    }
   ],
   "source": [
    "output_image = np.load(mask_folder + outputs[0], allow_pickle=True)\n",
    "\n",
    "# get_output_image(0, output_image)\n",
    "# get_output_image(1, output_image)\n",
    "# get_output_image(2, output_image)\n",
    "# get_output_image(3, output_image)\n",
    "get_output_image(4, output_image)\n",
    "\n",
    "# thres = 0.75\n",
    "# image = cv2.imread(folder + imnames[0])\n",
    "# image = cv2.resize(image,None,fx=0.5,fy=0.5)\n",
    "# render_img = (image * thres + color_mask * (1 - thres)).astype(np.uint8)\n"
   ]
  },
  {
   "cell_type": "code",
   "execution_count": 24,
   "id": "ad52884b-8217-42dd-9c43-974cd5bc4add",
   "metadata": {
    "tags": []
   },
   "outputs": [
    {
     "name": "stdout",
     "output_type": "stream",
     "text": [
      "['arr_0', 'arr_1', 'arr_2', 'arr_3', 'arr_4']\n",
      "download_mask/03202310/3/complete/mask4.png\n"
     ]
    }
   ],
   "source": [
    "output_image = np.load(mask_folder + outputs[0], allow_pickle=True)\n",
    "print(output_image.files)\n",
    "out1 = output_image['arr_4']\n",
    "get_output_mask(out1, \"mask4\")\n",
    "# color_mask = render_mask(out1)\n",
    "# thres = 0.75\n",
    "# image = cv2.imread(orgin_folder + \"1697077006_1697076663_4.jpg\")\n",
    "# image = cv2.resize(image,None,fx=0.5,fy=0.5)\n",
    "# render_img = (image * thres + color_mask * (1 - thres)).astype(np.uint8)\n",
    "# DEST_image = mask_folder + \"test.png\"  \n",
    "# if render_img is not None:\n",
    "#     cv2.imwrite(DEST_image, render_img)"
   ]
  },
  {
   "cell_type": "code",
   "execution_count": 4,
   "id": "13efad95-76ae-4c4f-921e-01e96b296184",
   "metadata": {},
   "outputs": [
    {
     "name": "stdout",
     "output_type": "stream",
     "text": [
      "删除文件：download_image/03202311/3/image_03202311_3_0_7.png\n",
      "删除文件：download_image/03202311/3/image_03202311_3_0_15.png\n",
      "删除文件：download_image/03202311/3/image_03202311_3_0_23.png\n",
      "删除文件：download_image/03202311/3/image_03202311_3_0_31.png\n",
      "删除文件：download_image/03202311/3/image_03202311_3_0_32.png\n",
      "删除文件：download_image/03202311/3/image_03202311_3_0_33.png\n",
      "删除文件：download_image/03202311/3/image_03202311_3_0_34.png\n",
      "删除文件：download_image/03202311/3/image_03202311_3_0_35.png\n",
      "删除文件：download_image/03202311/3/image_03202311_3_0_36.png\n",
      "删除文件：download_image/03202311/3/image_03202311_3_0_37.png\n",
      "删除文件：download_image/03202311/3/image_03202311_3_0_38.png\n",
      "删除文件：download_image/03202311/3/image_03202311_3_0_39.png\n",
      "删除文件：download_image/03202311/3/image_03202311_3_1_7.png\n",
      "删除文件：download_image/03202311/3/image_03202311_3_1_15.png\n",
      "删除文件：download_image/03202311/3/image_03202311_3_1_23.png\n",
      "删除文件：download_image/03202311/3/image_03202311_3_1_31.png\n",
      "删除文件：download_image/03202311/3/image_03202311_3_1_32.png\n",
      "删除文件：download_image/03202311/3/image_03202311_3_1_33.png\n",
      "删除文件：download_image/03202311/3/image_03202311_3_1_34.png\n",
      "删除文件：download_image/03202311/3/image_03202311_3_1_35.png\n",
      "删除文件：download_image/03202311/3/image_03202311_3_1_36.png\n",
      "删除文件：download_image/03202311/3/image_03202311_3_1_37.png\n",
      "删除文件：download_image/03202311/3/image_03202311_3_1_38.png\n",
      "删除文件：download_image/03202311/3/image_03202311_3_1_39.png\n",
      "删除文件：download_image/03202311/3/image_03202311_3_2_7.png\n",
      "删除文件：download_image/03202311/3/image_03202311_3_2_15.png\n",
      "删除文件：download_image/03202311/3/image_03202311_3_2_23.png\n",
      "删除文件：download_image/03202311/3/image_03202311_3_2_31.png\n",
      "删除文件：download_image/03202311/3/image_03202311_3_2_32.png\n",
      "删除文件：download_image/03202311/3/image_03202311_3_2_33.png\n",
      "删除文件：download_image/03202311/3/image_03202311_3_2_34.png\n",
      "删除文件：download_image/03202311/3/image_03202311_3_2_35.png\n",
      "删除文件：download_image/03202311/3/image_03202311_3_2_36.png\n",
      "删除文件：download_image/03202311/3/image_03202311_3_2_37.png\n",
      "删除文件：download_image/03202311/3/image_03202311_3_2_38.png\n",
      "删除文件：download_image/03202311/3/image_03202311_3_2_39.png\n",
      "删除文件：download_image/03202311/3/image_03202311_3_3_7.png\n",
      "删除文件：download_image/03202311/3/image_03202311_3_3_15.png\n",
      "删除文件：download_image/03202311/3/image_03202311_3_3_23.png\n",
      "删除文件：download_image/03202311/3/image_03202311_3_3_31.png\n",
      "删除文件：download_image/03202311/3/image_03202311_3_3_32.png\n",
      "删除文件：download_image/03202311/3/image_03202311_3_3_33.png\n",
      "删除文件：download_image/03202311/3/image_03202311_3_3_34.png\n",
      "删除文件：download_image/03202311/3/image_03202311_3_3_35.png\n",
      "删除文件：download_image/03202311/3/image_03202311_3_3_36.png\n",
      "删除文件：download_image/03202311/3/image_03202311_3_3_37.png\n",
      "删除文件：download_image/03202311/3/image_03202311_3_3_38.png\n",
      "删除文件：download_image/03202311/3/image_03202311_3_3_39.png\n",
      "删除文件：download_image/03202311/3/image_03202311_3_4_7.png\n",
      "删除文件：download_image/03202311/3/image_03202311_3_4_15.png\n",
      "删除文件：download_image/03202311/3/image_03202311_3_4_23.png\n",
      "删除文件：download_image/03202311/3/image_03202311_3_4_31.png\n",
      "删除文件：download_image/03202311/3/image_03202311_3_4_32.png\n",
      "删除文件：download_image/03202311/3/image_03202311_3_4_33.png\n",
      "删除文件：download_image/03202311/3/image_03202311_3_4_34.png\n",
      "删除文件：download_image/03202311/3/image_03202311_3_4_35.png\n",
      "删除文件：download_image/03202311/3/image_03202311_3_4_36.png\n",
      "删除文件：download_image/03202311/3/image_03202311_3_4_37.png\n",
      "删除文件：download_image/03202311/3/image_03202311_3_4_38.png\n",
      "删除文件：download_image/03202311/3/image_03202311_3_4_39.png\n",
      "删除文件：download_image/03202311/3/image_03202311_3_5_7.png\n",
      "删除文件：download_image/03202311/3/image_03202311_3_5_15.png\n",
      "删除文件：download_image/03202311/3/image_03202311_3_5_23.png\n",
      "删除文件：download_image/03202311/3/image_03202311_3_5_31.png\n",
      "删除文件：download_image/03202311/3/image_03202311_3_5_32.png\n",
      "删除文件：download_image/03202311/3/image_03202311_3_5_33.png\n",
      "删除文件：download_image/03202311/3/image_03202311_3_5_34.png\n",
      "删除文件：download_image/03202311/3/image_03202311_3_5_35.png\n",
      "删除文件：download_image/03202311/3/image_03202311_3_5_36.png\n",
      "删除文件：download_image/03202311/3/image_03202311_3_5_37.png\n",
      "删除文件：download_image/03202311/3/image_03202311_3_5_38.png\n",
      "删除文件：download_image/03202311/3/image_03202311_3_5_39.png\n",
      "删除文件：download_image/03202311/3/image_03202311_3_6_7.png\n",
      "删除文件：download_image/03202311/3/image_03202311_3_6_15.png\n",
      "删除文件：download_image/03202311/3/image_03202311_3_6_23.png\n",
      "删除文件：download_image/03202311/3/image_03202311_3_6_31.png\n",
      "删除文件：download_image/03202311/3/image_03202311_3_6_32.png\n",
      "删除文件：download_image/03202311/3/image_03202311_3_6_33.png\n",
      "删除文件：download_image/03202311/3/image_03202311_3_6_34.png\n",
      "删除文件：download_image/03202311/3/image_03202311_3_6_35.png\n",
      "删除文件：download_image/03202311/3/image_03202311_3_6_36.png\n",
      "删除文件：download_image/03202311/3/image_03202311_3_6_37.png\n",
      "删除文件：download_image/03202311/3/image_03202311_3_6_38.png\n",
      "删除文件：download_image/03202311/3/image_03202311_3_6_39.png\n",
      "删除文件：download_image/03202311/3/image_03202311_3_7_7.png\n",
      "删除文件：download_image/03202311/3/image_03202311_3_7_15.png\n",
      "删除文件：download_image/03202311/3/image_03202311_3_7_23.png\n",
      "删除文件：download_image/03202311/3/image_03202311_3_7_31.png\n",
      "删除文件：download_image/03202311/3/image_03202311_3_7_32.png\n",
      "删除文件：download_image/03202311/3/image_03202311_3_7_33.png\n",
      "删除文件：download_image/03202311/3/image_03202311_3_7_34.png\n",
      "删除文件：download_image/03202311/3/image_03202311_3_7_35.png\n",
      "删除文件：download_image/03202311/3/image_03202311_3_7_36.png\n",
      "删除文件：download_image/03202311/3/image_03202311_3_7_37.png\n",
      "删除文件：download_image/03202311/3/image_03202311_3_7_38.png\n",
      "删除文件：download_image/03202311/3/image_03202311_3_7_39.png\n",
      "删除文件：download_image/03202311/3/image_03202311_3_8_7.png\n",
      "删除文件：download_image/03202311/3/image_03202311_3_8_15.png\n",
      "删除文件：download_image/03202311/3/image_03202311_3_8_23.png\n",
      "删除文件：download_image/03202311/3/image_03202311_3_8_31.png\n",
      "删除文件：download_image/03202311/3/image_03202311_3_8_32.png\n",
      "删除文件：download_image/03202311/3/image_03202311_3_8_33.png\n",
      "删除文件：download_image/03202311/3/image_03202311_3_8_34.png\n",
      "删除文件：download_image/03202311/3/image_03202311_3_8_35.png\n",
      "删除文件：download_image/03202311/3/image_03202311_3_8_36.png\n",
      "删除文件：download_image/03202311/3/image_03202311_3_8_37.png\n",
      "删除文件：download_image/03202311/3/image_03202311_3_8_38.png\n",
      "删除文件：download_image/03202311/3/image_03202311_3_8_39.png\n",
      "删除文件：download_image/03202311/3/image_03202311_3_9_7.png\n",
      "删除文件：download_image/03202311/3/image_03202311_3_9_15.png\n",
      "删除文件：download_image/03202311/3/image_03202311_3_9_23.png\n",
      "删除文件：download_image/03202311/3/image_03202311_3_9_31.png\n",
      "删除文件：download_image/03202311/3/image_03202311_3_9_32.png\n",
      "删除文件：download_image/03202311/3/image_03202311_3_9_33.png\n",
      "删除文件：download_image/03202311/3/image_03202311_3_9_34.png\n",
      "删除文件：download_image/03202311/3/image_03202311_3_9_35.png\n",
      "删除文件：download_image/03202311/3/image_03202311_3_9_36.png\n",
      "删除文件：download_image/03202311/3/image_03202311_3_9_37.png\n",
      "删除文件：download_image/03202311/3/image_03202311_3_9_38.png\n",
      "删除文件：download_image/03202311/3/image_03202311_3_9_39.png\n",
      "删除文件：download_image/03202311/3/image_03202311_3_10_7.png\n",
      "删除文件：download_image/03202311/3/image_03202311_3_10_15.png\n",
      "删除文件：download_image/03202311/3/image_03202311_3_10_23.png\n",
      "删除文件：download_image/03202311/3/image_03202311_3_10_31.png\n",
      "删除文件：download_image/03202311/3/image_03202311_3_10_32.png\n",
      "删除文件：download_image/03202311/3/image_03202311_3_10_33.png\n",
      "删除文件：download_image/03202311/3/image_03202311_3_10_34.png\n",
      "删除文件：download_image/03202311/3/image_03202311_3_10_35.png\n",
      "删除文件：download_image/03202311/3/image_03202311_3_10_36.png\n",
      "删除文件：download_image/03202311/3/image_03202311_3_10_37.png\n",
      "删除文件：download_image/03202311/3/image_03202311_3_10_38.png\n",
      "删除文件：download_image/03202311/3/image_03202311_3_10_39.png\n",
      "删除文件：download_image/03202311/3/image_03202311_3_11_7.png\n",
      "删除文件：download_image/03202311/3/image_03202311_3_11_15.png\n",
      "删除文件：download_image/03202311/3/image_03202311_3_11_23.png\n",
      "删除文件：download_image/03202311/3/image_03202311_3_11_31.png\n",
      "删除文件：download_image/03202311/3/image_03202311_3_11_32.png\n",
      "删除文件：download_image/03202311/3/image_03202311_3_11_33.png\n",
      "删除文件：download_image/03202311/3/image_03202311_3_11_34.png\n",
      "删除文件：download_image/03202311/3/image_03202311_3_11_35.png\n",
      "删除文件：download_image/03202311/3/image_03202311_3_11_36.png\n",
      "删除文件：download_image/03202311/3/image_03202311_3_11_37.png\n",
      "删除文件：download_image/03202311/3/image_03202311_3_11_38.png\n",
      "删除文件：download_image/03202311/3/image_03202311_3_11_39.png\n",
      "删除文件：download_image/03202311/3/image_03202311_3_12_7.png\n",
      "删除文件：download_image/03202311/3/image_03202311_3_12_15.png\n",
      "删除文件：download_image/03202311/3/image_03202311_3_12_23.png\n",
      "删除文件：download_image/03202311/3/image_03202311_3_12_31.png\n",
      "删除文件：download_image/03202311/3/image_03202311_3_12_32.png\n",
      "删除文件：download_image/03202311/3/image_03202311_3_12_33.png\n",
      "删除文件：download_image/03202311/3/image_03202311_3_12_34.png\n",
      "删除文件：download_image/03202311/3/image_03202311_3_12_35.png\n",
      "删除文件：download_image/03202311/3/image_03202311_3_12_36.png\n",
      "删除文件：download_image/03202311/3/image_03202311_3_12_37.png\n",
      "删除文件：download_image/03202311/3/image_03202311_3_12_38.png\n",
      "删除文件：download_image/03202311/3/image_03202311_3_12_39.png\n",
      "删除文件：download_image/03202311/3/image_03202311_3_13_7.png\n",
      "删除文件：download_image/03202311/3/image_03202311_3_13_15.png\n",
      "删除文件：download_image/03202311/3/image_03202311_3_13_23.png\n",
      "删除文件：download_image/03202311/3/image_03202311_3_13_31.png\n",
      "删除文件：download_image/03202311/3/image_03202311_3_13_32.png\n",
      "删除文件：download_image/03202311/3/image_03202311_3_13_33.png\n",
      "删除文件：download_image/03202311/3/image_03202311_3_13_34.png\n",
      "删除文件：download_image/03202311/3/image_03202311_3_13_35.png\n",
      "删除文件：download_image/03202311/3/image_03202311_3_13_36.png\n",
      "删除文件：download_image/03202311/3/image_03202311_3_13_37.png\n",
      "删除文件：download_image/03202311/3/image_03202311_3_13_38.png\n",
      "删除文件：download_image/03202311/3/image_03202311_3_13_39.png\n",
      "删除文件：download_image/03202311/3/image_03202311_3_14_7.png\n",
      "删除文件：download_image/03202311/3/image_03202311_3_14_15.png\n",
      "删除文件：download_image/03202311/3/image_03202311_3_14_23.png\n",
      "删除文件：download_image/03202311/3/image_03202311_3_14_31.png\n",
      "删除文件：download_image/03202311/3/image_03202311_3_14_32.png\n",
      "删除文件：download_image/03202311/3/image_03202311_3_14_33.png\n",
      "删除文件：download_image/03202311/3/image_03202311_3_14_34.png\n",
      "删除文件：download_image/03202311/3/image_03202311_3_14_35.png\n",
      "删除文件：download_image/03202311/3/image_03202311_3_14_36.png\n",
      "删除文件：download_image/03202311/3/image_03202311_3_14_37.png\n",
      "删除文件：download_image/03202311/3/image_03202311_3_14_38.png\n",
      "删除文件：download_image/03202311/3/image_03202311_3_14_39.png\n"
     ]
    }
   ],
   "source": [
    "import os\n",
    "import cv2\n",
    "\n",
    "def delete_images_with_wrong_size(folder_path):\n",
    "    # 遍历文件夹中的所有文件\n",
    "    for filename in os.listdir(folder_path):\n",
    "        # 拼接文件路径\n",
    "        file_path = os.path.join(folder_path, filename)\n",
    "        \n",
    "        # 判断是否为文件\n",
    "        if os.path.isfile(file_path):\n",
    "            # 尝试读取图片\n",
    "            image = cv2.imread(file_path)\n",
    "            if image is not None:\n",
    "                # 获取图片尺寸\n",
    "                height, width, _ = image.shape\n",
    "                # 如果尺寸不是256x256像素，则删除文件\n",
    "                if height != 256 or width != 256:\n",
    "                    os.remove(file_path)\n",
    "                    print(f\"删除文件：{file_path}\")\n",
    "            else:\n",
    "                print(f\"无法读取图像文件：{file_path}\")\n",
    "\n",
    "# 指定文件夹路径\n",
    "folder_path = image_folder\n",
    "\n",
    "# 调用函数删除不符合尺寸要求的图片\n",
    "delete_images_with_wrong_size(folder_path)\n"
   ]
  },
  {
   "cell_type": "code",
   "execution_count": null,
   "id": "881fb074-ac80-442d-a396-3384ff4b193c",
   "metadata": {},
   "outputs": [],
   "source": []
  }
 ],
 "metadata": {
  "kernelspec": {
   "display_name": "Python 3 (ipykernel)",
   "language": "python",
   "name": "python3"
  },
  "language_info": {
   "codemirror_mode": {
    "name": "ipython",
    "version": 3
   },
   "file_extension": ".py",
   "mimetype": "text/x-python",
   "name": "python",
   "nbconvert_exporter": "python",
   "pygments_lexer": "ipython3",
   "version": "3.11.2"
  }
 },
 "nbformat": 4,
 "nbformat_minor": 5
}
